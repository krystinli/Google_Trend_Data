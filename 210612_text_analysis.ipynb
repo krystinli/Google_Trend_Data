{
 "cells": [
  {
   "cell_type": "markdown",
   "metadata": {},
   "source": [
    "# Text Analysis \n",
    "- [link](https://nbviewer.jupyter.org/github/nealcaren/workshop_2014/blob/master/notebooks/1_into.ipynb)\n",
    "\n",
    "Collecting text and non-text data from the web:\n",
    "- Sometimes they want to give it to you (APIs) \n",
    "- Sometimes they don't (HTML scraping)\n",
    "\n",
    "The fear:\n",
    "- **Computational Social Scientist:** S\n",
    "    - Someone who knows less theory than a sociologist \n",
    "    - and less programming than a computer scientist.\n",
    "    \n",
    "### Tutorial:\n",
    "- Up and running with IPython (1_Into)\n",
    "- Understand a basic workflow (2_Twitter)\n",
    "- Basics of Python and sentiment analysis (3_Sentiment)\n",
    "- Collecting data from a website (4_Upworthy)\n",
    "- Collecting data from an API (5_Times)\n",
    "- Basic text ML with scikit-learn (6_classification)"
   ]
  },
  {
   "cell_type": "code",
   "execution_count": null,
   "metadata": {},
   "outputs": [],
   "source": [
    "import requests"
   ]
  },
  {
   "cell_type": "code",
   "execution_count": null,
   "metadata": {},
   "outputs": [],
   "source": [
    "r = requests.get('https://api.github.com/user', auth=(user, pwd))\n",
    "r.status_code"
   ]
  },
  {
   "cell_type": "code",
   "execution_count": null,
   "metadata": {},
   "outputs": [],
   "source": [
    "r.headers['content-type']"
   ]
  },
  {
   "cell_type": "code",
   "execution_count": null,
   "metadata": {},
   "outputs": [],
   "source": [
    "r.text"
   ]
  },
  {
   "cell_type": "code",
   "execution_count": null,
   "metadata": {},
   "outputs": [],
   "source": [
    "r.json()"
   ]
  },
  {
   "cell_type": "markdown",
   "metadata": {},
   "source": [
    "## 2_Twitter "
   ]
  },
  {
   "cell_type": "code",
   "execution_count": null,
   "metadata": {},
   "outputs": [],
   "source": []
  }
 ],
 "metadata": {
  "kernelspec": {
   "display_name": "data_project",
   "language": "python",
   "name": "data_project"
  },
  "language_info": {
   "codemirror_mode": {
    "name": "ipython",
    "version": 3
   },
   "file_extension": ".py",
   "mimetype": "text/x-python",
   "name": "python",
   "nbconvert_exporter": "python",
   "pygments_lexer": "ipython3",
   "version": "3.8.6"
  }
 },
 "nbformat": 4,
 "nbformat_minor": 4
}
